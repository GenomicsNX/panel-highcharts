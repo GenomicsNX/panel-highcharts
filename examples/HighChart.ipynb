{
 "cells": [
  {
   "cell_type": "markdown",
   "id": "departmental-cradle",
   "metadata": {},
   "source": [
    "![Panel HighCharts Logo](https://raw.githubusercontent.com/MarcSkovMadsen/panel-highcharts/main/assets/images/panel-highcharts-logo.png)\n",
    "\n",
    "# 📈 Panel HighChart Reference Guide\n",
    "\n",
    "The [Panel](https://panel.holoviz.org) `HighChart` pane allows you to use the powerful [HighCharts](https://www.highcharts.com/) [Chart](https://www.highcharts.com/blog/products/highcharts/) from within the comfort of Python 🐍 and Panel ❤️.\n",
    "\n",
    "## License\n",
    "\n",
    "The `panel-highcharts` python package and repository is open source and free to use (MIT License), however the **Highcharts js library requires a license for commercial use**. For more info see the Highcharts license [FAQs](https://shop.highsoft.com/faq).\n",
    "\n",
    "## Parameters:\n",
    "\n",
    "For layout and styling related parameters see the [Panel Customization Guide](https://panel.holoviz.org/user_guide/Customization.html).\n",
    "\n",
    "* **``object``** (dict): The initial user `configuration` of the `chart`.\n",
    "* **``object_update``** (dict) Incremental update to the existing `configuration` of the `chart`. \n",
    "* **``event``** (dict): Events like `click` and `mouseOver` if subscribed to using the `@` terminology.\n",
    "\n",
    "___"
   ]
  },
  {
   "cell_type": "markdown",
   "id": "original-verification",
   "metadata": {},
   "source": [
    "# Usage\n",
    "\n",
    "## Imports\n",
    "\n",
    "You must import something from panel_highcharts before you run `pn.extension('highchart')`"
   ]
  },
  {
   "cell_type": "code",
   "execution_count": null,
   "id": "positive-briefing",
   "metadata": {},
   "outputs": [],
   "source": [
    "import panel_highcharts as ph"
   ]
  },
  {
   "cell_type": "markdown",
   "id": "chinese-summer",
   "metadata": {},
   "source": [
    "Additionally you can specify extra Highcharts `js_files` to include. See the full list at [https://code.highcharts.com](https://code.highcharts.com)"
   ]
  },
  {
   "cell_type": "code",
   "execution_count": null,
   "id": "alpha-computer",
   "metadata": {},
   "outputs": [],
   "source": [
    "# ph.config.js_files(highcharts_exporting=False, highcharts_export_data=False, highcharts_networkgraph=True, ...)"
   ]
  },
  {
   "cell_type": "code",
   "execution_count": null,
   "id": "stylish-edward",
   "metadata": {},
   "outputs": [],
   "source": [
    "import panel as pn\n",
    "pn.extension('highchart')"
   ]
  },
  {
   "cell_type": "markdown",
   "id": "usual-mount",
   "metadata": {},
   "source": [
    "## Configuration\n",
    "\n",
    "The `HighChart` pane is configured by providing a simple `dict` to the `object` parameter. For examples see the HighCharts [demos](https://www.highcharts.com/demo)."
   ]
  },
  {
   "cell_type": "code",
   "execution_count": null,
   "id": "accepted-baltimore",
   "metadata": {
    "tags": []
   },
   "outputs": [],
   "source": [
    "configuration = {\n",
    "    \"title\": {\"text\": \"HighChart Pane\"},\n",
    "    \"series\": [\n",
    "        {\n",
    "            \"name\": \"series1\",\n",
    "            \"data\": [1, 2, 3, 4, 5],\n",
    "        }\n",
    "    ]\n",
    "}"
   ]
  },
  {
   "cell_type": "code",
   "execution_count": null,
   "id": "annual-stock",
   "metadata": {},
   "outputs": [],
   "source": [
    "chart = ph.HighChart(object=configuration, sizing_mode=\"stretch_width\")\n",
    "chart"
   ]
  },
  {
   "cell_type": "markdown",
   "id": "loving-philadelphia",
   "metadata": {},
   "source": [
    "## Layout"
   ]
  },
  {
   "cell_type": "code",
   "execution_count": null,
   "id": "nuclear-country",
   "metadata": {},
   "outputs": [],
   "source": [
    "settings = pn.WidgetBox(\n",
    "    pn.Param(\n",
    "        chart,\n",
    "        parameters=[\"height\", \"width\", \"sizing_mode\", \"margin\", \"object\", \"object_update\", \"event\", ],\n",
    "                widgets={\"object\": pn.widgets.LiteralInput, \"object_update\": pn.widgets.LiteralInput, \"event\": pn.widgets.StaticText},\n",
    "        sizing_mode=\"fixed\", show_name=False, width=250,\n",
    "    )\n",
    ")\n",
    "pn.Row(settings, chart, sizing_mode=\"stretch_both\")"
   ]
  },
  {
   "cell_type": "markdown",
   "id": "quiet-embassy",
   "metadata": {},
   "source": [
    "Try changing the `sizing_mode` to `fixed` and the `width` to `400`."
   ]
  },
  {
   "cell_type": "markdown",
   "id": "beautiful-visiting",
   "metadata": {},
   "source": [
    "## Updates\n",
    "\n",
    "You can *update* the chart by providing a partial `configuration` to the `object_update` parameter."
   ]
  },
  {
   "cell_type": "code",
   "execution_count": null,
   "id": "useful-advocate",
   "metadata": {
    "tags": []
   },
   "outputs": [],
   "source": [
    "object_update = {\n",
    "    \"title\": {\"text\": \"Panel HighChart Pane\"},\n",
    "    \"series\": [\n",
    "        {\n",
    "            \"name\": \"series1\",\n",
    "            \"data\": [2, 2, 3, 4, 5],\n",
    "        }\n",
    "    ]}\n",
    "chart.object_update=object_update"
   ]
  },
  {
   "cell_type": "markdown",
   "id": "coordinated-shopper",
   "metadata": {},
   "source": [
    "Verify that the `title` and `series` was updated in the chart above."
   ]
  },
  {
   "cell_type": "markdown",
   "id": "announced-questionnaire",
   "metadata": {},
   "source": [
    "## Events\n",
    "\n",
    "You can subscribe to chart events using an the `@` notation as shown below. If you add a string like `@name`, then the key-value pair `'channel': 'name'` will be added to the `event` dictionary."
   ]
  },
  {
   "cell_type": "code",
   "execution_count": null,
   "id": "little-dominican",
   "metadata": {},
   "outputs": [],
   "source": [
    "event_update = {\n",
    "    \"series\": [\n",
    "        {\n",
    "            \"allowPointSelect\": \"true\",\n",
    "            \"point\": {\n",
    "                \"events\": {\n",
    "                    \"click\": \"@click;}\",\n",
    "                    \"mouseOver\": \"@mouseOverFun\",\n",
    "                    \"select\": \"@select\",\n",
    "                    \"unselect\": \"@unselect\",\n",
    "                }\n",
    "            },\n",
    "            \"events\": {\n",
    "                \"mouseOut\": \"@mouseOutFun\",\n",
    "            }\n",
    "        }\n",
    "    ]\n",
    "}\n",
    "chart.object_update=event_update"
   ]
  },
  {
   "cell_type": "markdown",
   "id": "urban-print",
   "metadata": {},
   "source": [
    "Verify that you can trigger the `click`, `mouseOver`, `select`, `unselect` and `mouseOut` events in the chart above and that the relevant `channel` value is used."
   ]
  },
  {
   "cell_type": "markdown",
   "id": "important-rotation",
   "metadata": {},
   "source": [
    "## Javascript\n",
    "\n",
    "You can use Javascript in the configuration via the `function() {...}` notation."
   ]
  },
  {
   "cell_type": "code",
   "execution_count": null,
   "id": "miniature-pontiac",
   "metadata": {},
   "outputs": [],
   "source": [
    "js_update = {\n",
    "    'xAxis': {\n",
    "            'title': {\n",
    "                'enabled': True,\n",
    "                'text': 'Distance'\n",
    "            },\n",
    "            'labels': {\n",
    "                'formatter': \"\"\"function(){return this.value + \"km\";}\"\"\"\n",
    "            },\n",
    "        },\n",
    "}\n",
    "chart.object_update=js_update"
   ]
  },
  {
   "cell_type": "markdown",
   "id": "dutch-silly",
   "metadata": {},
   "source": [
    "Verify that the x-axis labels now has `km` units appended in the chart above."
   ]
  },
  {
   "cell_type": "markdown",
   "id": "bright-brown",
   "metadata": {},
   "source": [
    "# App\n",
    "\n",
    "Finally we can wrap it up into a nice app template."
   ]
  },
  {
   "cell_type": "code",
   "execution_count": null,
   "id": "italian-bidding",
   "metadata": {},
   "outputs": [],
   "source": [
    "chart.object = {\n",
    "    \"title\": {\"text\": \"Panel HighChart Pane\"},\n",
    "    \"series\": [\n",
    "        {\n",
    "            \"name\": \"series1\",\n",
    "            \"data\": [1, 2, 3, 4, 5],\n",
    "            \"allowPointSelect\": \"true\",\n",
    "            \"point\": {\n",
    "                \"events\": {\n",
    "                    \"click\": \"@click;}\",\n",
    "                    \"mouseOver\": \"@mouseOverFun\",\n",
    "                    \"select\": \"@select\",\n",
    "                    \"unselect\": \"@unselect\",\n",
    "                }\n",
    "            },\n",
    "            \"events\": {\n",
    "                \"mouseOut\": \"@mouseOutFun\",\n",
    "            }\n",
    "        }\n",
    "    ],\n",
    "    'xAxis': {\n",
    "        'title': {\n",
    "            'enabled': True,\n",
    "            'text': 'Distance'\n",
    "        },\n",
    "        'labels': {\n",
    "            'formatter': \"\"\"function(){return this.value + \"km\";}\"\"\"\n",
    "        },\n",
    "    },\n",
    "}"
   ]
  },
  {
   "cell_type": "code",
   "execution_count": null,
   "id": "nasty-science",
   "metadata": {},
   "outputs": [],
   "source": [
    "app = pn.template.FastListTemplate(\n",
    "    site=\"Panel Highcharts\",\n",
    "    title=\"HighChart Reference Example\", \n",
    "    sidebar=[settings], \n",
    "    main=[chart]\n",
    ").servable()"
   ]
  },
  {
   "cell_type": "markdown",
   "id": "reported-quantum",
   "metadata": {},
   "source": [
    "You can serve with `panel serve HighChart.ipynb` and explore the app at http://localhost:5006/HighChart.\n",
    "\n",
    "![HighChart Reference Guide](https://raw.githubusercontent.com/MarcSkovMadsen/panel-highcharts/main/assets/images/HighChartApp.gif)"
   ]
  }
 ],
 "metadata": {
  "kernelspec": {
   "display_name": "Python 3",
   "language": "python",
   "name": "python3"
  },
  "language_info": {
   "codemirror_mode": {
    "name": "ipython",
    "version": 3
   },
   "file_extension": ".py",
   "mimetype": "text/x-python",
   "name": "python",
   "nbconvert_exporter": "python",
   "pygments_lexer": "ipython3",
   "version": "3.8.4"
  },
  "toc-autonumbering": true,
  "toc-showcode": true,
  "toc-showmarkdowntxt": true,
  "toc-showtags": false
 },
 "nbformat": 4,
 "nbformat_minor": 5
}
