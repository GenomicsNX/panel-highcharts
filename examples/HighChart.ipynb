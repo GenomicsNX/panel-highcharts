{
 "cells": [
  {
   "cell_type": "markdown",
   "id": "nutritional-amendment",
   "metadata": {},
   "source": [
    "# HighChart Pane\n",
    "\n",
    "The ``HighChart`` pane allows you to use the powerful [HighCharts](https://www.highcharts.com/) [Chart](https://www.highcharts.com/blog/products/highcharts/) from within the comfort of Python and Panel.\n",
    "\n",
    "<div align=\"center\" style=\"margin-right:10%;margin-left:10%; max-height: 250px\" >\n",
    "    <a href=\"https://panel.holoviz.org\"><img\n",
    "    alt=\"Panel\"\n",
    "    src=\"../assets/images/panel_logo.png\"\n",
    "    style=\"max-width:40%;height:255px;margin-right:20px\"></a>\n",
    "    <a href=\"https://www.highcharts.com/blog/products/highcharts/\"><img\n",
    "    alt=\"HighCharts\"\n",
    "    src=\"../assets/images/highcharts_logo.png\"\n",
    "    style=\"max-width:40%;height:200px\"\n",
    "    ></a>\n",
    "</div>\n",
    "\n",
    "## License\n",
    "\n",
    "The `panel-highcharts` python package and repository is open source and free to use (MIT License), however the **Highcharts js library requires a license for commercial use**. For more info see the Highcharts license [FAQs](https://shop.highsoft.com/faq).\n",
    "\n",
    "## Parameters:\n",
    "\n",
    "For layout and styling related parameters see the [customization user guide](https://panel.holoviz.org/user_guide/Customization.html).\n",
    "\n",
    "* **``object``** (dict): The initial user `configuration` of the `chart`. Please note you can use special `function (){...}` and `@` terminology to provide `javascript` functions and subscribe to `events`.\n",
    "* **``object_update``** (dict) Incremental update to existing `configuration` of the `chart`. \n",
    "* **``event``** (dict): Events like `click` and `mouseOver` if subscribed to using the `@` terminology.\n",
    "\n",
    "___"
   ]
  },
  {
   "cell_type": "markdown",
   "id": "hungry-freedom",
   "metadata": {},
   "source": [
    "# Usage\n",
    "\n",
    "## Imports\n",
    "\n",
    "You most `import panel_highcharts` or `from panel_highcharts import HighCharts` before you run `pn.extension('highchart')`"
   ]
  },
  {
   "cell_type": "code",
   "execution_count": null,
   "id": "indie-connecticut",
   "metadata": {},
   "outputs": [],
   "source": [
    "import panel_highcharts as ph\n",
    "import panel as pn\n",
    "pn.extension('highchart')"
   ]
  },
  {
   "cell_type": "markdown",
   "id": "unexpected-shell",
   "metadata": {},
   "source": [
    "## Configuration\n",
    "\n",
    "The `HighChart` pane is configured by providing a simple `dict` to the `object` parameter. For examples see the HighCharts [demos](https://www.highcharts.com/demo)."
   ]
  },
  {
   "cell_type": "code",
   "execution_count": null,
   "id": "substantial-protein",
   "metadata": {
    "tags": []
   },
   "outputs": [],
   "source": [
    "configuration = {\n",
    "    \"title\": {\"text\": \"HighChart Pane\"},\n",
    "    \"series\": [\n",
    "        {\n",
    "            \"name\": \"series1\",\n",
    "            \"data\": [1, 2, 3, 4, 5],\n",
    "        }\n",
    "    ]\n",
    "}"
   ]
  },
  {
   "cell_type": "code",
   "execution_count": null,
   "id": "reflected-registrar",
   "metadata": {},
   "outputs": [],
   "source": [
    "chart = ph.HighChart(object=configuration, sizing_mode=\"stretch_width\")\n",
    "chart"
   ]
  },
  {
   "cell_type": "markdown",
   "id": "environmental-brooks",
   "metadata": {},
   "source": [
    "## Layout"
   ]
  },
  {
   "cell_type": "code",
   "execution_count": null,
   "id": "loaded-density",
   "metadata": {},
   "outputs": [],
   "source": [
    "settings = pn.WidgetBox(\n",
    "    pn.Param(\n",
    "        chart,\n",
    "        parameters=[\"height\", \"width\", \"sizing_mode\", \"margin\", \"object\", \"object_update\", \"event\", ],\n",
    "                widgets={\"object\": pn.widgets.LiteralInput, \"object_update\": pn.widgets.LiteralInput, \"event\": pn.widgets.StaticText},\n",
    "        sizing_mode=\"fixed\", show_name=False\n",
    "    )\n",
    ")\n",
    "pn.Row(settings, chart, sizing_mode=\"stretch_both\")"
   ]
  },
  {
   "cell_type": "markdown",
   "id": "casual-mustang",
   "metadata": {},
   "source": [
    "Try changing the `sizing_mode` to `fixed` and the `width` to `400`."
   ]
  },
  {
   "cell_type": "markdown",
   "id": "tender-athens",
   "metadata": {},
   "source": [
    "## Updates\n",
    "\n",
    "You can *update* the chart by providing an updated, partial `configuration` to the `object_update` parameter."
   ]
  },
  {
   "cell_type": "code",
   "execution_count": null,
   "id": "legendary-punishment",
   "metadata": {
    "tags": []
   },
   "outputs": [],
   "source": [
    "object_update = {\n",
    "    \"title\": {\"text\": \"Panel HighChart Pane\"},\n",
    "    \"series\": [\n",
    "        {\n",
    "            \"name\": \"series1\",\n",
    "            \"data\": [2, 2, 3, 4, 5],\n",
    "        }\n",
    "    ]}\n",
    "chart.object_update=object_update"
   ]
  },
  {
   "cell_type": "markdown",
   "id": "union-bubble",
   "metadata": {},
   "source": [
    "Verify that the `title` and `series` was updated in the chart above"
   ]
  },
  {
   "cell_type": "markdown",
   "id": "demographic-lawrence",
   "metadata": {},
   "source": [
    "## Events\n",
    "\n",
    "You can subscribe to chart events using an the `@` notation as shown below. If you add a string like `@name` the key-value pair `'channel': 'name'` will be added to the `event` dictionary."
   ]
  },
  {
   "cell_type": "code",
   "execution_count": null,
   "id": "valued-reset",
   "metadata": {},
   "outputs": [],
   "source": [
    "event_update = {\n",
    "    \"series\": [\n",
    "        {\n",
    "            \"allowPointSelect\": \"true\",\n",
    "            \"point\": {\n",
    "                \"events\": {\n",
    "                    \"click\": \"@click;}\",\n",
    "                    \"mouseOver\": \"@mouseOverFun\",\n",
    "                    \"select\": \"@select\",\n",
    "                    \"unselect\": \"@unselect\",\n",
    "                }\n",
    "            },\n",
    "            \"events\": {\n",
    "                \"mouseOut\": \"@mouseOutFun\",\n",
    "            }\n",
    "        }\n",
    "    ]\n",
    "}\n",
    "chart.object_update=event_update"
   ]
  },
  {
   "cell_type": "markdown",
   "id": "partial-venue",
   "metadata": {},
   "source": [
    "Verify that you can trigger the `click`, `mouseOver`, `select`, `unselect` and `mouseOut` events in the chart above.\n",
    "\n",
    "You can see the event values at the bottom of the `WidgetBox` to the left of the chart."
   ]
  },
  {
   "cell_type": "markdown",
   "id": "formal-marks",
   "metadata": {},
   "source": [
    "## Javascript\n",
    "\n",
    "You can use Javascript in the configuration via the `function (){...}` notation."
   ]
  },
  {
   "cell_type": "code",
   "execution_count": null,
   "id": "worldwide-implementation",
   "metadata": {},
   "outputs": [],
   "source": [
    "js_update = {\n",
    "    'xAxis': {\n",
    "            'title': {\n",
    "                'enabled': True,\n",
    "                'text': 'Distance'\n",
    "            },\n",
    "            'labels': {\n",
    "                'formatter': \"\"\"function(){return this.value + \"km\";}\"\"\"\n",
    "            },\n",
    "        },\n",
    "}\n",
    "chart.object_update=js_update"
   ]
  },
  {
   "cell_type": "markdown",
   "id": "referenced-delaware",
   "metadata": {},
   "source": [
    "Verify that the x-axis labels now has `km` units appended in the chart above."
   ]
  },
  {
   "cell_type": "markdown",
   "id": "brown-savage",
   "metadata": {},
   "source": [
    "# Additional Resources\n",
    "\n",
    "- [panel-highcharts](https://github.com/marcskovmadsen/panel-highcharts)\n",
    "- [Panel](https://panel.holoviz.org)\n",
    "- [Awesome Panel](https://awesome-panel.org)\n",
    "- [Highcharts](https://www.highcharts.com/blog/products/highcharts/)\n",
    "    - [Demos](https://www.highcharts.com/demo)\n",
    "    - [API docs](https://api.highcharts.com/highcharts/)"
   ]
  }
 ],
 "metadata": {
  "kernelspec": {
   "display_name": "Python 3",
   "language": "python",
   "name": "python3"
  },
  "language_info": {
   "codemirror_mode": {
    "name": "ipython",
    "version": 3
   },
   "file_extension": ".py",
   "mimetype": "text/x-python",
   "name": "python",
   "nbconvert_exporter": "python",
   "pygments_lexer": "ipython3",
   "version": "3.8.4"
  },
  "toc-autonumbering": true,
  "toc-showcode": true,
  "toc-showmarkdowntxt": true,
  "toc-showtags": false
 },
 "nbformat": 4,
 "nbformat_minor": 5
}
