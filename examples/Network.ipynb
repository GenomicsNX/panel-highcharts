{
 "cells": [
  {
   "cell_type": "markdown",
   "id": "attached-breathing",
   "metadata": {},
   "source": [
    "![Panel HighCharts Logo](https://raw.githubusercontent.com/MarcSkovMadsen/panel-highcharts/main/assets/images/panel-highcharts-logo.png)\n",
    "\n",
    "# 📈 Panel HighChart Network Graph Example\n",
    "\n",
    "The [Panel](https://panel.holoviz.org) `HighChart` pane allows you to use the powerful [HighCharts](https://www.highcharts.com/) [Chart](https://www.highcharts.com/blog/products/highcharts/) from within the comfort of Python 🐍 and Panel ❤️.\n",
    "\n",
    "For an introduction checkout the [HighChart Reference Guide](HighChart.ipynb)\n",
    "\n",
    "This example demoes how to use Panel and Highcharts [networkgraph](https://www.highcharts.com/blog/tutorials/network-graph/) to an interactive tool based on `mouseOver` and `mouseOut` events."
   ]
  },
  {
   "cell_type": "code",
   "execution_count": null,
   "id": "helpful-responsibility",
   "metadata": {},
   "outputs": [],
   "source": [
    "import panel_highcharts as ph\n",
    "ph.config.js_files(highcharts_network=True)\n",
    "\n",
    "import panel as pn\n",
    "pn.extension('highchart')\n",
    "pn.config.sizing_mode=\"stretch_width\""
   ]
  },
  {
   "cell_type": "code",
   "execution_count": null,
   "id": "tender-example",
   "metadata": {},
   "outputs": [],
   "source": [
    "config = {\n",
    "    \"chart\": {\n",
    "        \"type\": 'networkgraph',\n",
    "        \"plotBorderWidth\": 1,\n",
    "    },\n",
    "    \"title\": {\n",
    "        \"text\": 'Panel HighChart Network Graph Example'\n",
    "    },\n",
    "    \"plotOptions\": {\n",
    "        \"networkgraph\": {\n",
    "            \"keys\": ['from', 'to']\n",
    "        }\n",
    "    },\n",
    "    \"series\": [{\n",
    "        \"layoutAlgorithm\": {\n",
    "            \"enableSimulation\": True,\n",
    "            \"linkLength\": 100,\n",
    "            \"initialPositions\": \"\"\"function () {\n",
    "                var chart = this.series[0].chart,\n",
    "                    width = chart.plotWidth,\n",
    "                    height = chart.plotHeight;\n",
    "\n",
    "                this.nodes.forEach(function (node) {\n",
    "                    // If initial positions were set previously, use that\n",
    "                    // positions. Otherwise use random position:\n",
    "                    node.plotX = node.plotX === undefined ?\n",
    "                        Math.random() * width : node.plotX;\n",
    "                    node.plotY = node.plotY === undefined ?\n",
    "                        Math.random() * height : node.plotY;\n",
    "                });\n",
    "            }\"\"\"\n",
    "        },\n",
    "        \"name\": \"K8\",\n",
    "        \"data\": [\n",
    "            ['A', 'B'],\n",
    "            ['A', 'C'],\n",
    "            ['A', 'D'],\n",
    "            ['A', 'E'],\n",
    "            ['A', 'F'],\n",
    "            ['A', 'G'],\n",
    "\n",
    "            ['B', 'C'],\n",
    "            ['B', 'D'],\n",
    "            ['B', 'E'],\n",
    "            ['B', 'F'],\n",
    "            ['B', 'G'],\n",
    "\n",
    "            ['C', 'D'],\n",
    "            ['C', 'E'],\n",
    "            ['C', 'F'],\n",
    "            ['C', 'G'],\n",
    "\n",
    "            ['D', 'E'],\n",
    "            ['D', 'F'],\n",
    "            ['D', 'G'],\n",
    "\n",
    "            ['E', 'F'],\n",
    "            ['E', 'G'],\n",
    "\n",
    "            ['F', 'G']\n",
    "        ],\n",
    "        \"point\": {\n",
    "            \"events\": {\n",
    "                \"mouseOver\": \"@\",\n",
    "            }\n",
    "        },\n",
    "        \"events\": {\n",
    "            \"mouseOut\": \"@\",\n",
    "        }\n",
    "    }]\n",
    "}"
   ]
  },
  {
   "cell_type": "code",
   "execution_count": null,
   "id": "stuffed-episode",
   "metadata": {},
   "outputs": [],
   "source": [
    "wiki = {\n",
    "    \"A\": \"**A**, or a, is the first letter and the first vowel letter of the modern English alphabet and the ISO basic Latin alphabet. Its name in English is a (pronounced /ˈeɪ/), plural aes. It is similar in shape to the Ancient Greek letter alpha, from which it derives. The uppercase version consists of the two slanting sides of a triangle, crossed in the middle by a horizontal bar. The lowercase version can be written in two forms: the double-storey a and single-storey ɑ. The latter is commonly used in handwriting and fonts based on it, especially fonts intended to be read by children, and is also found in italic type.\",\n",
    "    \"B\": \"**B**, or b, is the second letter of the Latin-script alphabet. Its name in English is bee (pronounced /ˈbiː/), plural bees. It represents the voiced bilabial stop in many languages, including English. In some other languages, it is used to represent other bilabial consonants.\",\n",
    "    \"C\": \"**C**, or c, is the third letter in the English and ISO basic Latin alphabets. Its name in English is cee (pronounced /ˈsiː/), plural cees.\",\n",
    "    \"D\": \"**D**, or d, is the fourth letter of the modern English alphabet and the ISO basic Latin alphabet. Its name in English is dee (pronounced /ˈdiː/), plural dees.\",\n",
    "    \"E\": \"**E**, or e, is the fifth letter and the second vowel letter in the modern English alphabet and the ISO basic Latin alphabet. Its name in English is e (pronounced /ˈiː/), plural ees. It is the most commonly used letter in many languages, including Czech, Danish, Dutch, English, French, German, Hungarian, Latin, Latvian, Norwegian, Spanish, and Swedish\",\n",
    "    \"F\": \"**F**, or f, is the sixth letter in the modern English alphabet and the ISO basic Latin alphabet. Its name in English is ef (pronounced /ˈɛf/), plural efs.\",\n",
    "    \"G\": \"**G**, or g, is the seventh letter of the ISO basic Latin alphabet. Its name in English is gee (pronounced /ˈdʒiː/), plural gees.\",\n",
    "\n",
    "}"
   ]
  },
  {
   "cell_type": "code",
   "execution_count": null,
   "id": "supreme-peninsula",
   "metadata": {
    "tags": []
   },
   "outputs": [],
   "source": [
    "MESSAGE = \"**Hover a node** to learn about the character\"\n",
    "\n",
    "chart = ph.HighChart(object=config)\n",
    "info = pn.pane.Markdown(MESSAGE, min_height=100)"
   ]
  },
  {
   "cell_type": "code",
   "execution_count": null,
   "id": "lucky-quest",
   "metadata": {},
   "outputs": [],
   "source": [
    "@pn.depends(event=chart.param.event, watch=True)\n",
    "def update_info(event):\n",
    "    if event[\"type\"]==\"mouseOver\":\n",
    "        info.object = wiki.get(event[\"target\"][\"name\"])\n",
    "    else:\n",
    "        info.object = MESSAGE"
   ]
  },
  {
   "cell_type": "code",
   "execution_count": null,
   "id": "large-innocent",
   "metadata": {},
   "outputs": [],
   "source": [
    "app=pn.Column(chart, info, sizing_mode=\"stretch_both\")\n",
    "app"
   ]
  },
  {
   "cell_type": "markdown",
   "id": "advisory-deployment",
   "metadata": {},
   "source": [
    "Let's also watch the events to understand what is going on :-)"
   ]
  },
  {
   "cell_type": "code",
   "execution_count": null,
   "id": "dietary-swing",
   "metadata": {},
   "outputs": [],
   "source": [
    "pn.Row(chart.param.event)"
   ]
  },
  {
   "cell_type": "markdown",
   "id": "historic-bottom",
   "metadata": {},
   "source": [
    "Let wrap it up in a nice template"
   ]
  },
  {
   "cell_type": "code",
   "execution_count": null,
   "id": "suspended-writing",
   "metadata": {},
   "outputs": [],
   "source": [
    "template = pn.template.FastListTemplate(title=\"Panel Highcharts Network Graph\", main=[app], theme_toggle=False)\n",
    "template.servable()\n",
    "display(\"Serve the app with 'panel serve Network.ipynb'\")"
   ]
  },
  {
   "cell_type": "markdown",
   "id": "lonely-diploma",
   "metadata": {},
   "source": [
    "Click the button below to start or stop serving the app from within the notebook."
   ]
  },
  {
   "cell_type": "code",
   "execution_count": null,
   "id": "three-bedroom",
   "metadata": {},
   "outputs": [],
   "source": [
    "server = None\n",
    "show_button = pn.widgets.Button(name=\"Start Server\", button_type=\"success\")\n",
    "\n",
    "def toggle_server(_):\n",
    "    global server\n",
    "    if show_button.name==\"Start Server\":\n",
    "        show_button.name=\"Stop Server\"\n",
    "        try:\n",
    "            server = template.show()\n",
    "        except:\n",
    "            pass\n",
    "    else:\n",
    "        show_button.name=\"Start Server\"\n",
    "        if server:\n",
    "            server.stop()\n",
    "\n",
    "show_button.on_click(toggle_server)\n",
    "show_button"
   ]
  }
 ],
 "metadata": {
  "kernelspec": {
   "display_name": "Python 3",
   "language": "python",
   "name": "python3"
  },
  "language_info": {
   "codemirror_mode": {
    "name": "ipython",
    "version": 3
   },
   "file_extension": ".py",
   "mimetype": "text/x-python",
   "name": "python",
   "nbconvert_exporter": "python",
   "pygments_lexer": "ipython3",
   "version": "3.8.4"
  }
 },
 "nbformat": 4,
 "nbformat_minor": 5
}
