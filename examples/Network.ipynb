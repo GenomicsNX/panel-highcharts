{
 "cells": [
  {
   "cell_type": "code",
   "execution_count": null,
   "id": "superb-iceland",
   "metadata": {},
   "outputs": [],
   "source": [
    "import panel_highcharts as ph\n",
    "ph.config.js_files(more=False, exporting=True, export_data=True, network=True)\n",
    "\n",
    "import panel as pn\n",
    "# pn.config.js_files[\"exporting\"]=\"https://code.highcharts.com/modules/exporting.js\"\n",
    "pn.extension('highchart')"
   ]
  },
  {
   "cell_type": "markdown",
   "id": "prospective-placement",
   "metadata": {},
   "source": [
    "This example is from https://jsfiddle.net/gh/get/library/pure/highcharts/highcharts/tree/master/samples/highcharts/series-networkgraph/initial-positions"
   ]
  },
  {
   "cell_type": "code",
   "execution_count": null,
   "id": "speaking-version",
   "metadata": {},
   "outputs": [],
   "source": [
    "config = {\n",
    "    \"chart\": {\n",
    "        \"type\": 'networkgraph',\n",
    "        \"plotBorderWidth\": 1,\n",
    "    },\n",
    "    \"title\": {\n",
    "        \"text\": 'Networkgraph with random initial positions'\n",
    "    },\n",
    "    \"plotOptions\": {\n",
    "        \"networkgraph\": {\n",
    "            \"keys\": ['from', 'to']\n",
    "        }\n",
    "    },\n",
    "    \"series\": [{\n",
    "        \"layoutAlgorithm\": {\n",
    "            \"enableSimulation\": True,\n",
    "            \"initialPositions\": \"\"\"function () {\n",
    "                var chart = this.series[0].chart,\n",
    "                    width = chart.plotWidth,\n",
    "                    height = chart.plotHeight;\n",
    "\n",
    "                this.nodes.forEach(function (node) {\n",
    "                    // If initial positions were set previously, use that\n",
    "                    // positions. Otherwise use random position:\n",
    "                    node.plotX = node.plotX === undefined ?\n",
    "                        Math.random() * width : node.plotX;\n",
    "                    node.plotY = node.plotY === undefined ?\n",
    "                        Math.random() * height : node.plotY;\n",
    "                });\n",
    "            }\"\"\"\n",
    "        },\n",
    "        \"name\": \"K8\",\n",
    "        \"data\": [\n",
    "            ['A', 'B'],\n",
    "            ['A', 'C'],\n",
    "            ['A', 'D'],\n",
    "            ['A', 'E'],\n",
    "            ['A', 'F'],\n",
    "            ['A', 'G'],\n",
    "\n",
    "            ['B', 'C'],\n",
    "            ['B', 'D'],\n",
    "            ['B', 'E'],\n",
    "            ['B', 'F'],\n",
    "            ['B', 'G'],\n",
    "\n",
    "            ['C', 'D'],\n",
    "            ['C', 'E'],\n",
    "            ['C', 'F'],\n",
    "            ['C', 'G'],\n",
    "\n",
    "            ['D', 'E'],\n",
    "            ['D', 'F'],\n",
    "            ['D', 'G'],\n",
    "\n",
    "            ['E', 'F'],\n",
    "            ['E', 'G'],\n",
    "\n",
    "            ['F', 'G']\n",
    "        ]\n",
    "    }]\n",
    "}"
   ]
  },
  {
   "cell_type": "code",
   "execution_count": null,
   "id": "female-taylor",
   "metadata": {},
   "outputs": [],
   "source": [
    "chart = ph.HighChart(object=config, sizing_mode=\"stretch_width\")\n",
    "chart"
   ]
  }
 ],
 "metadata": {
  "kernelspec": {
   "display_name": "Python 3",
   "language": "python",
   "name": "python3"
  },
  "language_info": {
   "codemirror_mode": {
    "name": "ipython",
    "version": 3
   },
   "file_extension": ".py",
   "mimetype": "text/x-python",
   "name": "python",
   "nbconvert_exporter": "python",
   "pygments_lexer": "ipython3",
   "version": "3.8.4"
  }
 },
 "nbformat": 4,
 "nbformat_minor": 5
}
